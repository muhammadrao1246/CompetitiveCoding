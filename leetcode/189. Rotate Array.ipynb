{
 "cells": [
  {
   "cell_type": "code",
   "execution_count": 9,
   "metadata": {},
   "outputs": [
    {
     "name": "stdout",
     "output_type": "stream",
     "text": [
      "[5, 6, 7, 1, 2, 3, 4]\n",
      "[5, 6, 7, 1, 2, 3, 4]\n",
      "None\n"
     ]
    },
    {
     "data": {
      "text/plain": [
       "3"
      ]
     },
     "execution_count": 9,
     "metadata": {},
     "output_type": "execute_result"
    }
   ],
   "source": [
    "# two pointer solution with O(n) and Space O(n) \n",
    "def rotate(nums: list[int], k: int) -> None:\n",
    "        \"\"\"\n",
    "        Do not return anything, modify nums in-place instead.\n",
    "        \"\"\"\n",
    "        n = len(nums)\n",
    "        rearranged = nums.copy()\n",
    "        for i in range(0, n):\n",
    "            next = (i+k)%n \n",
    "            \n",
    "            rearranged[next] = nums[i]\n",
    "            # two var swap\n",
    "            # nums[i] = nums[i]+nums[next]\n",
    "            # nums[next] = nums[i]-nums[next]\n",
    "            # nums[i] = nums[i]-nums[next]\n",
    "            \n",
    "        for i in range(0, n):\n",
    "            nums[i] = rearranged[i]\n",
    "        \n",
    "        print(nums)\n",
    "        print(rearranged)\n",
    "            \n",
    "        \n",
    "\n",
    "print(rotate([1,2,3,4,5,6,7], 3))\n",
    "3%7"
   ]
  }
 ],
 "metadata": {
  "kernelspec": {
   "display_name": ".venv",
   "language": "python",
   "name": "python3"
  },
  "language_info": {
   "codemirror_mode": {
    "name": "ipython",
    "version": 3
   },
   "file_extension": ".py",
   "mimetype": "text/x-python",
   "name": "python",
   "nbconvert_exporter": "python",
   "pygments_lexer": "ipython3",
   "version": "3.11.9"
  }
 },
 "nbformat": 4,
 "nbformat_minor": 2
}
