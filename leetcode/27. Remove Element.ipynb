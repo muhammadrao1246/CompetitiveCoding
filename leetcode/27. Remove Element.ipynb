{
 "cells": [
  {
   "cell_type": "markdown",
   "metadata": {},
   "source": [
    "## Python default version"
   ]
  },
  {
   "cell_type": "code",
   "execution_count": 17,
   "metadata": {},
   "outputs": [
    {
     "name": "stdout",
     "output_type": "stream",
     "text": [
      "[1, 2, 4, 5, 3, 3, 3, 3] 4\n"
     ]
    },
    {
     "data": {
      "text/plain": [
       "4"
      ]
     },
     "execution_count": 17,
     "metadata": {},
     "output_type": "execute_result"
    }
   ],
   "source": [
    "# REMOVE ELEMENT FROM LIST AND SHIFT OTHER ONES TO LEFT\n",
    "from typing import List\n",
    "\n",
    "# O(nlog(n)) Complexity\n",
    "def removeElement(nums: List[int], val: int) -> int:\n",
    "    n = len(nums)\n",
    "    d = nums.count(val)\n",
    "    nums.sort(key=lambda item: item == val)        \n",
    "    print(nums, d)\n",
    "    return n-d\n",
    "\n",
    "\n",
    "removeElement([3,3,1,2,3,4,5,3], 3)\n",
    "           "
   ]
  },
  {
   "cell_type": "markdown",
   "metadata": {},
   "source": [
    "## O(n)\n",
    "        "
   ]
  },
  {
   "cell_type": "code",
   "execution_count": 19,
   "metadata": {},
   "outputs": [
    {
     "name": "stdout",
     "output_type": "stream",
     "text": [
      "[1, 2, 4, 5, 3, 4, 5, 3] 0\n"
     ]
    },
    {
     "data": {
      "text/plain": [
       "4"
      ]
     },
     "execution_count": 19,
     "metadata": {},
     "output_type": "execute_result"
    }
   ],
   "source": [
    "# O(nlog(n)) Complexity\n",
    "# two pointer approach\n",
    "def removeElement(nums: List[int], val: int) -> int:\n",
    "    n = len(nums)\n",
    "    replacer = 0 # also represents total remaining non-target elements\n",
    "    for i in range(0, n):\n",
    "        if nums[i] != val:\n",
    "            nums[replacer] = nums[i]\n",
    "            replacer+=1\n",
    "            \n",
    "            \n",
    "    return replacer\n",
    "    \n",
    "\n",
    "\n",
    "removeElement([3,3,1,2,3,4,5,3], 3)"
   ]
  }
 ],
 "metadata": {
  "kernelspec": {
   "display_name": ".venv",
   "language": "python",
   "name": "python3"
  },
  "language_info": {
   "codemirror_mode": {
    "name": "ipython",
    "version": 3
   },
   "file_extension": ".py",
   "mimetype": "text/x-python",
   "name": "python",
   "nbconvert_exporter": "python",
   "pygments_lexer": "ipython3",
   "version": "3.11.9"
  }
 },
 "nbformat": 4,
 "nbformat_minor": 2
}
