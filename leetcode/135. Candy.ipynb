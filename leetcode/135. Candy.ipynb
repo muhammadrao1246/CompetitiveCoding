{
 "cells": [
  {
   "cell_type": "code",
   "execution_count": 22,
   "metadata": {},
   "outputs": [
    {
     "name": "stdout",
     "output_type": "stream",
     "text": [
      "13\n"
     ]
    }
   ],
   "source": [
    "from typing import List\n",
    "\n",
    "# O(2n) === O(n)\n",
    "def candy(ratings: List[int]) -> int:\n",
    "        candies = 0\n",
    "        n = len(ratings)\n",
    "        neighbors = [1 for i in range(0, n)]\n",
    "        \n",
    "        # forward tracking previous child or left child for increase in candies\n",
    "        for i in range(1, n):\n",
    "            neighbors[i] = neighbors[i-1]+1 if ratings[i-1] < ratings[i] else neighbors[i] \n",
    "    \n",
    "        # backward tracking next child or right child for increase in candies\n",
    "        i = n-2\n",
    "        while i >= 0:\n",
    "            neighbors[i] = max(neighbors[i], neighbors[i+1]+1) if ratings[i] > ratings[i+1] else neighbors[i]\n",
    "            i-=1\n",
    "            \n",
    "        candies = sum(neighbors)\n",
    "        return candies\n",
    "\n",
    "print(candy([1,2,87,87,87,2,1])) #7"
   ]
  }
 ],
 "metadata": {
  "kernelspec": {
   "display_name": ".venv",
   "language": "python",
   "name": "python3"
  },
  "language_info": {
   "codemirror_mode": {
    "name": "ipython",
    "version": 3
   },
   "file_extension": ".py",
   "mimetype": "text/x-python",
   "name": "python",
   "nbconvert_exporter": "python",
   "pygments_lexer": "ipython3",
   "version": "3.11.9"
  }
 },
 "nbformat": 4,
 "nbformat_minor": 2
}
