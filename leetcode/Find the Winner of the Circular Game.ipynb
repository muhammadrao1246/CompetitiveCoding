{
 "cells": [
  {
   "cell_type": "code",
   "execution_count": 49,
   "metadata": {},
   "outputs": [
    {
     "name": "stdout",
     "output_type": "stream",
     "text": [
      "[1, 2, 3, 4, 5]\n",
      "2\n",
      "[1, 2, 4, 5]\n",
      "0\n",
      "[2, 4, 5]\n",
      "2\n",
      "[2, 4]\n",
      "0\n",
      "[4]\n",
      "0\n"
     ]
    },
    {
     "data": {
      "text/plain": [
       "4"
      ]
     },
     "execution_count": 49,
     "metadata": {},
     "output_type": "execute_result"
    }
   ],
   "source": [
    "def findTheWinner( n: int, k: int) -> int:\n",
    "        # linear solution not recursive\n",
    "        friends = [f for f in range(1, n+1)]\n",
    "        start = k-1\n",
    "        while len(friends) > 1:\n",
    "            # print(friends)\n",
    "            # print(start)\n",
    "            friends.pop(start)\n",
    "            start = (start + k -1) % len(friends)\n",
    "        \n",
    "        # print(friends)\n",
    "        # print(start)\n",
    "        return friends[0]\n",
    "        \n",
    "            \n",
    "    \n",
    "findTheWinner(5, 3)"
   ]
  }
 ],
 "metadata": {
  "kernelspec": {
   "display_name": ".venv",
   "language": "python",
   "name": "python3"
  },
  "language_info": {
   "codemirror_mode": {
    "name": "ipython",
    "version": 3
   },
   "file_extension": ".py",
   "mimetype": "text/x-python",
   "name": "python",
   "nbconvert_exporter": "python",
   "pygments_lexer": "ipython3",
   "version": "3.11.9"
  }
 },
 "nbformat": 4,
 "nbformat_minor": 2
}
