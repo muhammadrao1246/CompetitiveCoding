{
 "cells": [
  {
   "cell_type": "markdown",
   "metadata": {},
   "source": [
    "# Using Two Pointer Solution that also works for unsorted array"
   ]
  },
  {
   "cell_type": "code",
   "execution_count": 4,
   "metadata": {},
   "outputs": [
    {
     "name": "stdout",
     "output_type": "stream",
     "text": [
      "5\n"
     ]
    }
   ],
   "source": [
    "def removeDuplicates(nums: list) -> int:\n",
    "        # two pointer solution\n",
    "        # one is replacer and one is indexer\n",
    "        n = len(nums)\n",
    "        count = []\n",
    "        replacer = 0\n",
    "\n",
    "        for i in range(0, n):\n",
    "            # if a unique value occured  \n",
    "            if nums[i] not in count:\n",
    "                nums[replacer] = nums[i]\n",
    "                replacer += 1\n",
    "                count.append(nums[i])\n",
    "\n",
    "        return replacer\n",
    "\n",
    "print(removeDuplicates([1,2,3,3,4,4,5,5])) "
   ]
  },
  {
   "cell_type": "code",
   "execution_count": 7,
   "metadata": {},
   "outputs": [
    {
     "name": "stdout",
     "output_type": "stream",
     "text": [
      "[1, 2, 3, 4, 5, 4, 5, 5]\n",
      "5\n"
     ]
    }
   ],
   "source": [
    "# two pointer solution for sortable duplicated array\n",
    "def removeDuplicates(nums: list) -> int:\n",
    "        # two pointer solution\n",
    "        # one is replacer and one is indexer\n",
    "        n = len(nums)\n",
    "        last = None\n",
    "        currIndex = 0 \n",
    "        for i in range(0, n):\n",
    "            # if the previous was this one then skip this iteration\n",
    "            if last == nums[i]: continue \n",
    "            \n",
    "            # if it is a unique \n",
    "            \n",
    "            # store it as a last full iteration output\n",
    "            last = nums[i]\n",
    "            \n",
    "            # update the data in the curr replacement index\n",
    "            nums[currIndex] = nums[i]\n",
    "            \n",
    "            # update the replacement index\n",
    "            currIndex+=1\n",
    "\n",
    "        print(nums)\n",
    "        return currIndex \n",
    "\n",
    "print(removeDuplicates([1,2,3,3,4,4,5,5]))"
   ]
  }
 ],
 "metadata": {
  "kernelspec": {
   "display_name": ".venv",
   "language": "python",
   "name": "python3"
  },
  "language_info": {
   "codemirror_mode": {
    "name": "ipython",
    "version": 3
   },
   "file_extension": ".py",
   "mimetype": "text/x-python",
   "name": "python",
   "nbconvert_exporter": "python",
   "pygments_lexer": "ipython3",
   "version": "3.11.9"
  }
 },
 "nbformat": 4,
 "nbformat_minor": 2
}
