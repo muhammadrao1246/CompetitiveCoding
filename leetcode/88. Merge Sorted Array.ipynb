{
 "cells": [
  {
   "cell_type": "code",
   "execution_count": 33,
   "metadata": {},
   "outputs": [
    {
     "name": "stdout",
     "output_type": "stream",
     "text": [
      "[1, 2, 2, 3, 5, 6]\n"
     ]
    }
   ],
   "source": [
    "\n",
    "\n",
    "def mergeSorted(nums1, m, nums2, n):\n",
    "    \n",
    "    for i in range((m+n)-n, m+n):\n",
    "        nums1[i] = nums2[i-n]\n",
    "        \n",
    "    # selection sort 0(n2)\n",
    "    size = len(nums1)\n",
    "    for i in range(0, size):\n",
    "        for j in range(i+1, size):\n",
    "            # print(f\"{num1[i]} > {num1[j]}\")\n",
    "            if nums1[i] > nums1[j]:\n",
    "                nums1[i] = nums1[i] + nums1[j]\n",
    "                nums1[j] = nums1[i] - nums1[j]\n",
    "                nums1[i] = nums1[i] - nums1[j]\n",
    "    \n",
    "    \n",
    "    print(nums1)\n",
    "    \n",
    "mergeSorted([1,2,3,0,0,0], 3, [2,5,6], 3)"
   ]
  }
 ],
 "metadata": {
  "kernelspec": {
   "display_name": ".venv",
   "language": "python",
   "name": "python3"
  },
  "language_info": {
   "codemirror_mode": {
    "name": "ipython",
    "version": 3
   },
   "file_extension": ".py",
   "mimetype": "text/x-python",
   "name": "python",
   "nbconvert_exporter": "python",
   "pygments_lexer": "ipython3",
   "version": "3.11.9"
  }
 },
 "nbformat": 4,
 "nbformat_minor": 2
}
