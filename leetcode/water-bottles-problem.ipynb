{
 "cells": [
  {
   "cell_type": "markdown",
   "metadata": {},
   "source": [
    "# Water Bottle Problem returning total gained bottles"
   ]
  },
  {
   "cell_type": "code",
   "execution_count": 3,
   "metadata": {},
   "outputs": [
    {
     "name": "stdout",
     "output_type": "stream",
     "text": [
      "9 3\n",
      "3 3\n",
      "1 3\n"
     ]
    },
    {
     "data": {
      "text/plain": [
       "13"
      ]
     },
     "execution_count": 3,
     "metadata": {},
     "output_type": "execute_result"
    }
   ],
   "source": [
    "import math \n",
    "\n",
    "def numWaterBottles( numBottles: int, numExchange: int) -> int:\n",
    "        print(numBottles, numExchange)\n",
    "        \n",
    "        exchanged = math.trunc(numBottles/numExchange)\n",
    "        if exchanged < 1:\n",
    "            return numBottles\n",
    "        \n",
    "        drinked = (exchanged*numExchange)\n",
    "        notExchanged = numBottles - drinked\n",
    "        return drinked + numWaterBottles(exchanged + notExchanged, numExchange)\n",
    "    \n",
    "numWaterBottles(9, 3)\n"
   ]
  },
  {
   "cell_type": "markdown",
   "metadata": {},
   "source": [
    "# Water Bottle Problem 2 (each exchange increase exchange count)"
   ]
  },
  {
   "cell_type": "code",
   "execution_count": 7,
   "metadata": {},
   "outputs": [
    {
     "name": "stdout",
     "output_type": "stream",
     "text": [
      "10 3\n",
      "8 4\n",
      "5 5\n",
      "1 6\n"
     ]
    },
    {
     "data": {
      "text/plain": [
       "13"
      ]
     },
     "execution_count": 7,
     "metadata": {},
     "output_type": "execute_result"
    }
   ],
   "source": [
    "def maxBottlesDrunk( numBottles: int, numExchange: int) -> int:\n",
    "        print(numBottles, numExchange)\n",
    "        \n",
    "        if numBottles < numExchange:\n",
    "            return numBottles\n",
    "        \n",
    "        remaining = (numBottles - numExchange) + 1\n",
    "        \n",
    "        return numExchange + maxBottlesDrunk(remaining, numExchange+1)\n",
    "    \n",
    "maxBottlesDrunk(10, 3)"
   ]
  }
 ],
 "metadata": {
  "kernelspec": {
   "display_name": ".venv",
   "language": "python",
   "name": "python3"
  },
  "language_info": {
   "codemirror_mode": {
    "name": "ipython",
    "version": 3
   },
   "file_extension": ".py",
   "mimetype": "text/x-python",
   "name": "python",
   "nbconvert_exporter": "python",
   "pygments_lexer": "ipython3",
   "version": "3.11.9"
  }
 },
 "nbformat": 4,
 "nbformat_minor": 2
}
