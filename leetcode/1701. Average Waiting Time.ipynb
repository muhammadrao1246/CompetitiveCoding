{
 "cells": [
  {
   "cell_type": "code",
   "execution_count": 23,
   "metadata": {},
   "outputs": [
    {
     "name": "stdout",
     "output_type": "stream",
     "text": [
      "Customer Arrived at time 5\n",
      "Customer After Arrival waiting time 0\n",
      "Customer Order served by chef at time 12\n",
      "Customer Waited 7\n",
      "Current Time 12\n",
      "Customer Arrived at time 5\n",
      "Customer After Arrival waiting time 7\n",
      "Customer Order served by chef at time 18\n",
      "Customer Waited 9\n",
      "Current Time 18\n",
      "Customer Arrived at time 10\n",
      "Customer After Arrival waiting time 8\n",
      "Customer Order served by chef at time 23\n",
      "Customer Waited 14\n",
      "Current Time 23\n",
      "Customer Arrived at time 20\n",
      "Customer After Arrival waiting time 3\n",
      "Customer Order served by chef at time 41\n",
      "Customer Waited 32\n",
      "Current Time 41\n"
     ]
    }
   ],
   "source": [
    "from typing import List\n",
    "\n",
    "\n",
    "def averageWaitingTime(customers: List[List[int]]) -> float:\n",
    "    total_waiting_time = 0\n",
    "    last_order_served_at = 0\n",
    "    for customer in customers:\n",
    "        arrival = customer[0]\n",
    "        order = customer[1]\n",
    "        \n",
    "        time_waited_after_arrival = last_order_served_at-arrival\n",
    "        print(f\"Customer Arrived at time {arrival}\")\n",
    "        print(f\"Customer After Arrival waiting time {time_waited_after_arrival}\")\n",
    "        \n",
    "        last_order_served_at += order \n",
    "        print(f\"Customer Order served by chef at time {last_order_served_at}\")\n",
    "        total_waiting_time += arrival-time_waited_after_arrival + order\n",
    "        \n",
    "        print(f\"Customer Waited {total_waiting_time}\")\n",
    "        print(f\"Current Time {last_order_served_at}\")\n",
    "    \n",
    "averageWaitingTime([[5,2],[5,4],[10,3],[20,1]])"
   ]
  }
 ],
 "metadata": {
  "kernelspec": {
   "display_name": ".venv",
   "language": "python",
   "name": "python3"
  },
  "language_info": {
   "codemirror_mode": {
    "name": "ipython",
    "version": 3
   },
   "file_extension": ".py",
   "mimetype": "text/x-python",
   "name": "python",
   "nbconvert_exporter": "python",
   "pygments_lexer": "ipython3",
   "version": "3.11.9"
  }
 },
 "nbformat": 4,
 "nbformat_minor": 2
}
