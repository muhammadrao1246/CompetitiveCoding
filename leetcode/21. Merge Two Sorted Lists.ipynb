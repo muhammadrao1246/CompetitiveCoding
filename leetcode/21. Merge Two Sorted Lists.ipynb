{
 "cells": [
  {
   "cell_type": "code",
   "execution_count": 16,
   "metadata": {},
   "outputs": [
    {
     "name": "stdout",
     "output_type": "stream",
     "text": [
      "1 -> 23 -> 4\n",
      "1 -> 1 -> 23 -> 4\n"
     ]
    }
   ],
   "source": [
    "from typing import Optional\n",
    "\n",
    "\n",
    "class ListNode:\n",
    "    def __init__(self, val=0, next=None):\n",
    "        self.val = val\n",
    "        self.next = next\n",
    "        \n",
    "    def __str__(self) -> str:\n",
    "        return f\"{self.val}\"\n",
    "    \n",
    "class Solution:\n",
    "    def mergeTwoLists(self, list1: Optional[ListNode], list2: Optional[ListNode]) -> Optional[ListNode]:\n",
    "        newListHead = None\n",
    "        newListRef = None\n",
    "        if list1 or list2:\n",
    "            \n",
    "            while list1 or list2:\n",
    "                to_be_set = None\n",
    "                if list1 and list2:\n",
    "                    if list1.val <= list2.val:\n",
    "                        to_be_set = list1\n",
    "                        list1 = list1.next \n",
    "                    else:\n",
    "                        to_be_set = list2 \n",
    "                        list2 = list2.next\n",
    "                elif list1:\n",
    "                    to_be_set = list1\n",
    "                    list1 = list1.next \n",
    "                elif list2:\n",
    "                    to_be_set = list2 \n",
    "                    list2 = list2.next\n",
    "                \n",
    "                if to_be_set:\n",
    "                    if newListHead is None:\n",
    "                        newListHead = to_be_set\n",
    "                        newListRef = newListHead\n",
    "                    else:\n",
    "                        newListRef.next = to_be_set\n",
    "                        newListRef = newListRef.next \n",
    "            \n",
    "        return newListHead\n",
    "    \n",
    "def listToListNode(l):\n",
    "    head = None\n",
    "    last = None\n",
    "    for node in l:\n",
    "        if head:\n",
    "            last.next = ListNode(node)\n",
    "            last = last.next \n",
    "        else:\n",
    "            head = ListNode(node)\n",
    "            last = head \n",
    "    \n",
    "    return head \n",
    "\n",
    "def displayLinkList(head):\n",
    "    el = []\n",
    "    while head:\n",
    "        el.append(str(head))\n",
    "        head = head.next\n",
    "    \n",
    "    print(' -> '.join(el))\n",
    "\n",
    "l1 = listToListNode([1,23,4])\n",
    "\n",
    "l2 = listToListNode([1])\n",
    "\n",
    "displayLinkList(l1)\n",
    "\n",
    "sol = Solution()\n",
    "displayLinkList(sol.mergeTwoLists(l1, l2))\n"
   ]
  }
 ],
 "metadata": {
  "kernelspec": {
   "display_name": ".venv",
   "language": "python",
   "name": "python3"
  },
  "language_info": {
   "codemirror_mode": {
    "name": "ipython",
    "version": 3
   },
   "file_extension": ".py",
   "mimetype": "text/x-python",
   "name": "python",
   "nbconvert_exporter": "python",
   "pygments_lexer": "ipython3",
   "version": "3.11.9"
  }
 },
 "nbformat": 4,
 "nbformat_minor": 2
}
