{
 "cells": [
  {
   "cell_type": "code",
   "execution_count": 2,
   "metadata": {},
   "outputs": [
    {
     "name": "stdout",
     "output_type": "stream",
     "text": [
      "{1: 1}\n",
      "{1: 1, 2: 1}\n",
      "{1: 1, 2: 1, 3: 1}\n",
      "{1: 1, 2: 2, 3: 1}\n",
      "{1: 1, 2: 2, 3: 2}\n",
      "{1: 1, 2: 2, 3: 2, 4: 1}\n",
      "{1: 1, 2: 2, 3: 2, 4: 1, 5: 1}\n",
      "{1: 1, 2: 2, 3: 2, 4: 1, 5: 1, 6: 1}\n",
      "{1: 1, 2: 2, 3: 2, 4: 1, 5: 1, 6: 1, 7: 1}\n",
      "{1: 1, 2: 2, 3: 2, 4: 1, 5: 1, 6: 1, 7: 2}\n",
      "{1: 1, 2: 2, 3: 2, 4: 1, 5: 1, 6: 1, 7: 3}\n",
      "{1: 1, 2: 2, 3: 2, 4: 1, 5: 1, 6: 1, 7: 4}\n",
      "{1: 1, 2: 2, 3: 2, 4: 1, 5: 1, 6: 1, 7: 5}\n",
      "{1: 1, 2: 2, 3: 3, 4: 1, 5: 1, 6: 1, 7: 5}\n",
      "{1: 1, 2: 2, 3: 4, 4: 1, 5: 1, 6: 1, 7: 5}\n",
      "7\n"
     ]
    }
   ],
   "source": [
    "# using O(n)\n",
    "def majorityElement(nums: list[int]) -> int:\n",
    "        majMap = {}\n",
    "        n = len(nums)\n",
    "        greatest = None\n",
    "        lastGreatest = 0\n",
    "        for i in range(0, n):\n",
    "            if nums[i] not in majMap:\n",
    "                majMap[nums[i]] = 0\n",
    "\n",
    "            majMap[nums[i]] += 1\n",
    "\n",
    "            if majMap[nums[i]] > lastGreatest:\n",
    "                lastGreatest = majMap[nums[i]]\n",
    "                greatest = nums[i]\n",
    "            \n",
    "            print(majMap)\n",
    "        \n",
    "        return greatest\n",
    "    \n",
    "print(majorityElement([1,2,3,2,3,4,5,6,7,7,7,7,7,3,3]))"
   ]
  }
 ],
 "metadata": {
  "kernelspec": {
   "display_name": ".venv",
   "language": "python",
   "name": "python3"
  },
  "language_info": {
   "codemirror_mode": {
    "name": "ipython",
    "version": 3
   },
   "file_extension": ".py",
   "mimetype": "text/x-python",
   "name": "python",
   "nbconvert_exporter": "python",
   "pygments_lexer": "ipython3",
   "version": "3.11.9"
  }
 },
 "nbformat": 4,
 "nbformat_minor": 2
}
