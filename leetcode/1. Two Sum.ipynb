{
 "cells": [
  {
   "cell_type": "code",
   "execution_count": 8,
   "metadata": {},
   "outputs": [
    {
     "name": "stdout",
     "output_type": "stream",
     "text": [
      "[1, 2]\n"
     ]
    }
   ],
   "source": [
    "from typing import List\n",
    "\n",
    "def twoSum(nums: List[int], target: int) -> List[int]:\n",
    "    counter = {}\n",
    "    \n",
    "    for index, val in enumerate(nums):\n",
    "        temp = target-val\n",
    "        if temp in counter:\n",
    "            return [counter[temp], index]\n",
    "        \n",
    "        if val not in counter:\n",
    "            counter[val] = index\n",
    "        \n",
    "        \n",
    "    \n",
    "    \n",
    "    \n",
    "print(twoSum([3,2,4], 6))        "
   ]
  }
 ],
 "metadata": {
  "kernelspec": {
   "display_name": ".venv",
   "language": "python",
   "name": "python3"
  },
  "language_info": {
   "codemirror_mode": {
    "name": "ipython",
    "version": 3
   },
   "file_extension": ".py",
   "mimetype": "text/x-python",
   "name": "python",
   "nbconvert_exporter": "python",
   "pygments_lexer": "ipython3",
   "version": "3.11.9"
  }
 },
 "nbformat": 4,
 "nbformat_minor": 2
}
