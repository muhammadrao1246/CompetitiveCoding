{
 "cells": [
  {
   "cell_type": "code",
   "execution_count": 7,
   "metadata": {},
   "outputs": [
    {
     "name": "stdout",
     "output_type": "stream",
     "text": [
      "[1, 2, 2, 3, 4, 4, 5, 5, 6, 5, 6]\n",
      "9\n"
     ]
    }
   ],
   "source": [
    "#  applying two pointer o(n) approach with MAP\n",
    "def removeDuplicates(nums: list) -> int:\n",
    "    \n",
    "    n = len(nums)\n",
    "    occurMap = {}\n",
    "    \n",
    "    currIndex = 0\n",
    "    for i in range(0, n):\n",
    "        # if more than two occurences are present then skip the next ones after getting two\n",
    "        if nums[i] not in occurMap: \n",
    "            occurMap[nums[i]] = 0\n",
    "        elif occurMap[nums[i]] == 2:\n",
    "            continue \n",
    "        \n",
    "        \n",
    "        # update the currIndex value\n",
    "        nums[currIndex] = nums[i]\n",
    "        \n",
    "        # update the currIndex\n",
    "        currIndex+=1\n",
    "        occurMap[nums[i]]+=1\n",
    "    \n",
    "    print(nums)\n",
    "    return currIndex\n",
    "    \n",
    "    \n",
    "    \n",
    "print(removeDuplicates([1,2,2,2,2,3,4,4,5,5,6]))"
   ]
  },
  {
   "cell_type": "code",
   "execution_count": null,
   "metadata": {},
   "outputs": [],
   "source": [
    "#  applying two pointer o(n) approach with MAP\n",
    "def removeDuplicates(nums: list) -> int:\n",
    "    \n",
    "    n = len(nums)\n",
    "    skipOccurences = 2\n",
    "    currIndex = 0\n",
    "    # two must be present to execute this solution as the duplicates should be removed greater than 2\n",
    "    for i in range(2, n):\n",
    "        \n",
    "        if nums[i - 1] != nums[i] or nums[skipOccurences - i] != nums[i]:\n",
    "             \n",
    "        \n",
    "        \n",
    "        \n",
    "    print(nums)\n",
    "    return currIndex\n",
    "    \n",
    "    \n",
    "    \n",
    "print(removeDuplicates([1,2,2,2,2,3,4,4,5,5,6]))"
   ]
  }
 ],
 "metadata": {
  "kernelspec": {
   "display_name": ".venv",
   "language": "python",
   "name": "python3"
  },
  "language_info": {
   "codemirror_mode": {
    "name": "ipython",
    "version": 3
   },
   "file_extension": ".py",
   "mimetype": "text/x-python",
   "name": "python",
   "nbconvert_exporter": "python",
   "pygments_lexer": "ipython3",
   "version": "3.11.9"
  }
 },
 "nbformat": 4,
 "nbformat_minor": 2
}
