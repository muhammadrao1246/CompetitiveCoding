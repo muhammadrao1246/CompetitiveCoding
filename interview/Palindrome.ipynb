{
 "cells": [
  {
   "cell_type": "code",
   "execution_count": null,
   "metadata": {},
   "outputs": [],
   "source": [
    "def checkPalindrome(num):\n",
    "    old = num\n",
    "    rev= 0\n",
    "    while old >= 1:\n",
    "        rem = int(old%10)\n",
    "        quo = old/10\n",
    "        rev = rev*10+rem\n",
    "        old = quo\n",
    "    \n",
    "    if rev == num:\n",
    "        print(\"Palindrome\")\n",
    "        return\n",
    "    \n",
    "    print(\"Not Palindrome\")\n",
    "        \n",
    "checkPalindrome(343)"
   ]
  },
  {
   "cell_type": "code",
   "execution_count": null,
   "metadata": {},
   "outputs": [],
   "source": [
    "def checkStringPalindrome(p):\n",
    "    length = len(p)\n",
    "    for i in range(0, length):\n",
    "        head = p[i]\n",
    "        tail = p[(length-1)-i]\n",
    "        \n",
    "        if head != tail:\n",
    "            print(\"Not Palindrome\")\n",
    "            break\n",
    "\n",
    "        if i == (length-1)-i:\n",
    "            print(\"Palindrome\")\n",
    "            break\n",
    "        \n",
    "    \n",
    "    \n",
    "checkStringPalindrome(\"aa\") "
   ]
  }
 ],
 "metadata": {
  "language_info": {
   "name": "python"
  }
 },
 "nbformat": 4,
 "nbformat_minor": 2
}
